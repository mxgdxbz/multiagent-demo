{
  "nbformat": 4,
  "nbformat_minor": 0,
  "metadata": {
    "colab": {
      "provenance": [],
      "include_colab_link": true
    },
    "kernelspec": {
      "name": "python3",
      "display_name": "Python 3"
    },
    "language_info": {
      "name": "python"
    }
  },
  "cells": [
    {
      "cell_type": "markdown",
      "metadata": {
        "id": "view-in-github",
        "colab_type": "text"
      },
      "source": [
        "<a href=\"https://colab.research.google.com/github/mxgdxbz/multiagent-demo/blob/main/Evaluating_LLM_Output_Unsupervised_Approaches.ipynb\" target=\"_parent\"><img src=\"https://colab.research.google.com/assets/colab-badge.svg\" alt=\"Open In Colab\"/></a>"
      ]
    },
    {
      "cell_type": "markdown",
      "source": [
        "![logo.jpeg](data:image/jpeg;base64,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)"
      ],
      "metadata": {
        "id": "tAr_cHXHrSmB"
      }
    },
    {
      "cell_type": "markdown",
      "source": [
        "# Example Responses\n",
        "\n",
        "- response_a: A clear and concise explanation.\n",
        "- response_b: A confusing and convoluted explanation that mixes several ideas.\n",
        "- response_c: An explanation that doesn't connect well and is very unclear."
      ],
      "metadata": {
        "id": "_LKU_ATXuwft"
      }
    },
    {
      "cell_type": "code",
      "execution_count": 1,
      "metadata": {
        "application/vnd.databricks.v1+cell": {
          "cellMetadata": {
            "byteLimit": 2048000,
            "rowLimit": 10000
          },
          "inputWidgets": {},
          "nuid": "6d36357c-040c-4686-b52b-6d5ecf5e9a2f",
          "showTitle": false,
          "tableResultSettingsMap": {},
          "title": ""
        },
        "id": "4phl74qhrOiM"
      },
      "outputs": [],
      "source": [
        "response_a = \"\"\"Blockchain is a decentralized digital ledger that records and\n",
        "stores data in a secure and transparent manner. It is a chain of blocks, where\n",
        "each block contains a set of transactions that are verified and added to the\n",
        "chain through a consensus mechanism. This means that the data stored on the\n",
        "blockchain cannot be altered or deleted, making it immutable and tamper-proof.\n",
        "The data is also distributed across a network of computers, making it highly\n",
        "secure and resistant to hacking. This technology is most commonly associated\n",
        "with cryptocurrencies, but it has many other potential applications such as\n",
        "supply chain management, voting systems, and smart contracts. Overall,\n",
        "blockchain provides a reliable and efficient way to store and transfer data\n",
        "without the need for intermediaries, making it a revolutionary technology with\n",
        "the potential to transform various industries.\"\"\"\n",
        "\n",
        "response_b = \"\"\"Blockchain is internet technology which distributes a duplicate\n",
        "record to all nodes in order to protect the network from fraud or dishonesty.\n",
        "The digital ledger holds transactions and allows instant verification by the\n",
        "entire system. All copies or blocks of data connected one after another into\n",
        "processing lines form blockchain. It was first developed for bitcoin payments\n",
        "but can be used for other cryptocurrency in major organizations.Finally,\n",
        "blockchain has a large scalability and stores data in a block structure that is\n",
        "permanently chained together. Blockchain tech is on internet where same record\n",
        "gets spread on all nodes concurrently keeping net secure from fraudulence.\n",
        "Ledger keeps track of transactions through instantaneous confirmation with the\n",
        "whole setup.\"\"\"\n",
        "\n",
        "response_c = \"\"\"Think of the blockchain as a Jenga tower that is constantly\n",
        "growing and adding new blocks at the top, while also reinforcing and connecting\n",
        "each block to the blocks underneath it. This tower only moves forward with\n",
        "consensus from all the players involved, but anyone can contribute their own\n",
        "block as long as they follow the predetermined rules and maintain transparency\n",
        "within the chain. This ensures an ever-evolving and decentralized network that\n",
        "maintains immutability through shared verification processes. Essentially, it's\n",
        "like creating a never-ending game of three-dimensional collaborative digital\n",
        "Tetris while wearing blindfolds made of pseudo-random algorithms.\"\"\""
      ]
    },
    {
      "cell_type": "markdown",
      "source": [
        "# Rubrik Prompt\n",
        "\n",
        "Here we give a detailed explanation of the criteria we want the LLM to consider, and a breakdown of what each score means. This should be as detailed as possible based on your task and will require adjustment."
      ],
      "metadata": {
        "id": "Mm6CTLb050yH"
      }
    },
    {
      "cell_type": "code",
      "source": [
        "prompt = \"\"\"You are an expert in English language arts. You will be given some text\n",
        "which you will grade with the following criteria:\n",
        "\n",
        "Coherence:\n",
        "- Logical Flow: Does the response follow a clear and logical structure?\n",
        "- - 1: the text is very incohearent\n",
        "- - 2: the text is somewhat incohearent\n",
        "- - 3: the text is coherent\n",
        "- - 4: the text is very coherent\n",
        "- - 5: the text is extremely coherent\n",
        "Relevance:\n",
        "- Relevance of Information: Are all details relevant to the main topic?\n",
        "- - 1: the text is not relevant\n",
        "- - 2: the text is somewhat relevant\n",
        "- - 3: the text is mostly relevant\n",
        "- - 4: the text is very relevant\n",
        "- - 5: the text is extremely relevant\n",
        "Variety:\n",
        "- Consistency: Does the response maintain consistent terms, ideas, and perspective throughout?\n",
        "- - 1: the text is very inconsistent\n",
        "- - 2: the text is somewhat inconsistent\n",
        "- - 3: the text is consistent\n",
        "- - 4: the text is very consistent\n",
        "- - 5: the text is extremely consistent\n",
        "Fluency:\n",
        "- Grammar and Syntax: Is the language grammatically correct and easy to read?\n",
        "- - 1: the text is very difficult to read\n",
        "- - 2: the text is somewhat difficult to read\n",
        "- - 3: the text is easy to read\n",
        "- - 4: the text is very easy to read\n",
        "- - 5: the text is extremely easy to read\n",
        "- Smooth Transitions: Are transitions between ideas smooth and natural?\n",
        "- - 1: the text is very unnatural\n",
        "- - 2: the text is somewhat unnatural\n",
        "- - 3: the text is natural\n",
        "- - 4: the text is very natural\n",
        "- - 5: the text is extremely natural\n",
        "- Readability: Does the response use clear and accessible language without awkward phrasing?\n",
        "- - 1: the text is not readable\n",
        "- - 2: the text is somewhat readable\n",
        "- - 3: the text is readable\n",
        "- - 4: the text is very readable\n",
        "- - 5: the text is extremely readable\n",
        "\n",
        "Provide your response as a JSON object where each criterion is a key and the value\n",
        "is your score from 1 to 5:\n",
        "\n",
        "```json\n",
        "{{\n",
        "  \"Coherence\": {{\n",
        "    \"Logical Flow\": int,\n",
        "    ...\n",
        "  }},\n",
        "  \"Relevance\": {{\n",
        "    \"Relevance of Information\": int,\n",
        "    ...\n",
        "  }},\n",
        "}}\n",
        "```\n",
        "\n",
        "\n",
        "Only provide the JSON object.\n",
        "\n",
        "Text: \"{text}\"\n",
        "\"\"\""
      ],
      "metadata": {
        "id": "Uls0uC8A55DO"
      },
      "execution_count": 2,
      "outputs": []
    },
    {
      "cell_type": "markdown",
      "source": [
        "Change the response variable and copy/paste into an LLM to see the result."
      ],
      "metadata": {
        "id": "TCEz6cOh99Kj"
      }
    },
    {
      "cell_type": "code",
      "source": [
        "print(prompt.format(text=response_a))"
      ],
      "metadata": {
        "id": "G5Fp0WJm8KGQ",
        "outputId": "f6ec9120-043b-41e1-a6e2-ca4b2ce6dbd8",
        "colab": {
          "base_uri": "https://localhost:8080/"
        }
      },
      "execution_count": 4,
      "outputs": [
        {
          "output_type": "stream",
          "name": "stdout",
          "text": [
            "You are an expert in English language arts. You will be given some text\n",
            "which you will grade with the following criteria:\n",
            "\n",
            "Coherence:\n",
            "- Logical Flow: Does the response follow a clear and logical structure?\n",
            "- - 1: the text is very incohearent\n",
            "- - 2: the text is somewhat incohearent\n",
            "- - 3: the text is coherent\n",
            "- - 4: the text is very coherent\n",
            "- - 5: the text is extremely coherent\n",
            "Relevance:\n",
            "- Relevance of Information: Are all details relevant to the main topic?\n",
            "- - 1: the text is not relevant\n",
            "- - 2: the text is somewhat relevant\n",
            "- - 3: the text is mostly relevant\n",
            "- - 4: the text is very relevant\n",
            "- - 5: the text is extremely relevant\n",
            "Variety:\n",
            "- Consistency: Does the response maintain consistent terms, ideas, and perspective throughout?\n",
            "- - 1: the text is very inconsistent\n",
            "- - 2: the text is somewhat inconsistent\n",
            "- - 3: the text is consistent\n",
            "- - 4: the text is very consistent\n",
            "- - 5: the text is extremely consistent\n",
            "Fluency:\n",
            "- Grammar and Syntax: Is the language grammatically correct and easy to read?\n",
            "- - 1: the text is very difficult to read\n",
            "- - 2: the text is somewhat difficult to read\n",
            "- - 3: the text is easy to read\n",
            "- - 4: the text is very easy to read\n",
            "- - 5: the text is extremely easy to read\n",
            "- Smooth Transitions: Are transitions between ideas smooth and natural?\n",
            "- - 1: the text is very unnatural\n",
            "- - 2: the text is somewhat unnatural\n",
            "- - 3: the text is natural\n",
            "- - 4: the text is very natural\n",
            "- - 5: the text is extremely natural\n",
            "- Readability: Does the response use clear and accessible language without awkward phrasing?\n",
            "- - 1: the text is not readable\n",
            "- - 2: the text is somewhat readable\n",
            "- - 3: the text is readable\n",
            "- - 4: the text is very readable\n",
            "- - 5: the text is extremely readable\n",
            "\n",
            "Provide your response as a JSON object where each criterion is a key and the value\n",
            "is your score from 1 to 5:\n",
            "\n",
            "```json\n",
            "{\n",
            "  \"Coherence\": {\n",
            "    \"Logical Flow\": int,\n",
            "    ...\n",
            "  },\n",
            "  \"Relevance\": {\n",
            "    \"Relevance of Information\": int,\n",
            "    ...\n",
            "  },\n",
            "}\n",
            "```\n",
            "\n",
            "\n",
            "Only provide the JSON object.\n",
            "\n",
            "Text: \"Blockchain is a decentralized digital ledger that records and\n",
            "stores data in a secure and transparent manner. It is a chain of blocks, where\n",
            "each block contains a set of transactions that are verified and added to the\n",
            "chain through a consensus mechanism. This means that the data stored on the\n",
            "blockchain cannot be altered or deleted, making it immutable and tamper-proof.\n",
            "The data is also distributed across a network of computers, making it highly\n",
            "secure and resistant to hacking. This technology is most commonly associated\n",
            "with cryptocurrencies, but it has many other potential applications such as\n",
            "supply chain management, voting systems, and smart contracts. Overall,\n",
            "blockchain provides a reliable and efficient way to store and transfer data\n",
            "without the need for intermediaries, making it a revolutionary technology with\n",
            "the potential to transform various industries.\"\n",
            "\n"
          ]
        }
      ]
    }
  ]
}